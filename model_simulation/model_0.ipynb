{
 "cells": [
  {
   "cell_type": "code",
   "execution_count": null,
   "metadata": {},
   "outputs": [],
   "source": [
    "import pandas as pd\n",
    "import numpy as np\n"
   ]
  },
  {
   "cell_type": "code",
   "execution_count": 1,
   "metadata": {},
   "outputs": [],
   "source": [
    "# params for basic iteration of model\n",
    "solar_power = 35\n",
    "wind_power = 40\n",
    "#storage_power = 200\n",
    "grid_power = 0\n",
    "\n",
    "solar_price = 1\n",
    "wind_price = 2\n",
    "#storage_price = 0\n",
    "grid_price = 10\n",
    "\n",
    "demand = 1000\n",
    "\n",
    "price = solar_power*solar_price + wind_power*wind_price + grid_power*grid_price # to be mininmized\n",
    "solar_power + wind_power + grid_power >= demand # constraint\n",
    "output_power = \n"
   ]
  },
  {
   "cell_type": "code",
   "execution_count": 3,
   "metadata": {},
   "outputs": [
    {
     "data": {
      "text/plain": [
       "75"
      ]
     },
     "execution_count": 3,
     "metadata": {},
     "output_type": "execute_result"
    }
   ],
   "source": [
    "output_power"
   ]
  }
 ],
 "metadata": {
  "kernelspec": {
   "display_name": "Python 3",
   "language": "python",
   "name": "python3"
  },
  "language_info": {
   "codemirror_mode": {
    "name": "ipython",
    "version": 3
   },
   "file_extension": ".py",
   "mimetype": "text/x-python",
   "name": "python",
   "nbconvert_exporter": "python",
   "pygments_lexer": "ipython3",
   "version": "3.7.6"
  }
 },
 "nbformat": 4,
 "nbformat_minor": 4
}
