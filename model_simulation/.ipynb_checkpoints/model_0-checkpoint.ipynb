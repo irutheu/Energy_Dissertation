{
 "cells": [
  {
   "cell_type": "code",
   "execution_count": 2,
   "metadata": {},
   "outputs": [],
   "source": [
    "import pandas as pd\n",
    "import numpy as np\n",
    "from pulp import *\n"
   ]
  },
  {
   "cell_type": "code",
   "execution_count": 1,
   "metadata": {},
   "outputs": [],
   "source": [
    "# params for basic iteration of model\n",
    "solar_power = 35\n",
    "wind_power = 40\n",
    "#storage_power = 200\n",
    "grid_power = 0\n",
    "\n",
    "\n",
    "demand = 1000\n",
    "\n",
    "price = solar_power*solar_price + wind_power*wind_price + grid_power*grid_price # to be mininmized\n",
    "solar_power + wind_power + grid_power >= demand # constraint\n",
    "output_power = \n"
   ]
  },
  {
   "cell_type": "code",
   "execution_count": 21,
   "metadata": {},
   "outputs": [
    {
     "name": "stdout",
     "output_type": "stream",
     "text": [
      "power_optimization:\n",
      "MINIMIZE\n",
      "3*grid_power + 1.5*solar_power + 2*wind_power + 0.0\n",
      "SUBJECT TO\n",
      "_C1: grid_power + solar_power + wind_power >= 1000\n",
      "\n",
      "VARIABLES\n",
      "grid_power <= 10000 Continuous\n",
      "solar_power <= 500 Continuous\n",
      "wind_power <= 350 Continuous\n",
      "\n",
      "solar_power = 500.0\n",
      "wind_power = 350.0\n",
      "grid_power = 150.0\n",
      "3*grid_power + 1.5*solar_power + 2*wind_power = 1900.0\n"
     ]
    }
   ],
   "source": [
    "problem = LpProblem(\"power_optimization\", LpMinimize)\n",
    "\n",
    "# Prices for energy\n",
    "solar_price = 1.5\n",
    "wind_price = 2\n",
    "grid_price = 3\n",
    "\n",
    "# Energy demand\n",
    "demand = 1000\n",
    "\n",
    "# Variables\n",
    "solar_power = LpVariable('solar_power', 0, 500)\n",
    "wind_power = LpVariable('wind_power', 0, 350)\n",
    "grid_power = LpVariable('grid_power', 0, 10000)\n",
    "\n",
    "# Constraints\n",
    "c1 = solar_power + wind_power + grid_power >= demand\n",
    "\n",
    "# Objective\n",
    "objective = solar_power*solar_price + wind_power*wind_price + grid_power*grid_price\n",
    "\n",
    "# Adding constraints and objectives to problem\n",
    "problem += c1\n",
    "problem += objective\n",
    "\n",
    "#Solving\n",
    "print(problem)\n",
    "problem.solve()\n",
    "\n",
    "# Print solution\n",
    "for i in [solar_power, wind_power, grid_power, objective]:\n",
    "    print(i,\"=\" ,value(i))\n",
    "\n"
   ]
  }
 ],
 "metadata": {
  "kernelspec": {
   "display_name": "Python 3",
   "language": "python",
   "name": "python3"
  },
  "language_info": {
   "codemirror_mode": {
    "name": "ipython",
    "version": 3
   },
   "file_extension": ".py",
   "mimetype": "text/x-python",
   "name": "python",
   "nbconvert_exporter": "python",
   "pygments_lexer": "ipython3",
   "version": "3.7.6"
  }
 },
 "nbformat": 4,
 "nbformat_minor": 4
}
