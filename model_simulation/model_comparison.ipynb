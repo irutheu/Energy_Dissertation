{
 "cells": [
  {
   "cell_type": "code",
   "execution_count": 1,
   "metadata": {},
   "outputs": [],
   "source": [
    "import pandas as pd\n",
    "import numpy as np\n",
    "from math import sqrt\n",
    "import statsmodels.api as sm\n",
    "from sklearn.metrics import mean_squared_error, mean_absolute_error, r2_score"
   ]
  },
  {
   "cell_type": "code",
   "execution_count": 2,
   "metadata": {},
   "outputs": [],
   "source": [
    "df = pd.read_csv('datasets/pvdaq_2012_2014_hourly.csv', header=0, infer_datetime_format=True, parse_dates=['Date-Time'], index_col=['Date-Time'])"
   ]
  },
  {
   "cell_type": "code",
   "execution_count": 3,
   "metadata": {},
   "outputs": [],
   "source": [
    "train_start,train_end = '2012-01-01','2012-09-30'\n",
    "test_start,test_end = '2012-10-01','2012-12-31'\n",
    "train = df['dc_power'][train_start:train_end].dropna()\n",
    "test = df['dc_power'][test_start:test_end].dropna()"
   ]
  },
  {
   "cell_type": "code",
   "execution_count": 4,
   "metadata": {
    "scrolled": false
   },
   "outputs": [
    {
     "name": "stderr",
     "output_type": "stream",
     "text": [
      "C:\\Users\\iruth\\anaconda3\\lib\\site-packages\\statsmodels\\tsa\\base\\tsa_model.py:162: ValueWarning: No frequency information was provided, so inferred frequency H will be used.\n",
      "  % freq, ValueWarning)\n",
      "C:\\Users\\iruth\\anaconda3\\lib\\site-packages\\statsmodels\\base\\model.py:568: ConvergenceWarning: Maximum Likelihood optimization failed to converge. Check mle_retvals\n",
      "  \"Check mle_retvals\", ConvergenceWarning)\n"
     ]
    },
    {
     "name": "stdout",
     "output_type": "stream",
     "text": [
      "ARIMA model MSE:89563437.5244603, MAE:8712.170485086159, RMSE:9463.79614765979\n"
     ]
    }
   ],
   "source": [
    "# ARIMA EVALUATION\n",
    "arima = sm.tsa.SARIMAX(train,order=(7,1,7),freq='h',seasonal_order=(0,0,0,0),\n",
    "                                 enforce_stationarity=False, enforce_invertibility=False)\n",
    "arima_res = arima.fit()\n",
    "arima_res.summary()\n",
    "\n",
    "\n",
    "pred = arima_res.predict(train_end,test_end)[1:]\n",
    "print('ARIMA model MSE:{}, MAE:{}, RMSE:{}'.format(mean_squared_error(test,pred), mean_absolute_error(test,pred), sqrt(mean_squared_error(test,pred))))\n",
    "\n"
   ]
  },
  {
   "cell_type": "code",
   "execution_count": 5,
   "metadata": {},
   "outputs": [
    {
     "name": "stdout",
     "output_type": "stream",
     "text": [
      "Holt-Winters model MSE:117929125.05661231, MAE:5863.552989130435, RMSE:10859.517717496128\n"
     ]
    },
    {
     "name": "stderr",
     "output_type": "stream",
     "text": [
      "C:\\Users\\iruth\\anaconda3\\lib\\site-packages\\statsmodels\\tsa\\base\\tsa_model.py:162: ValueWarning: No frequency information was provided, so inferred frequency H will be used.\n",
      "  % freq, ValueWarning)\n",
      "C:\\Users\\iruth\\anaconda3\\lib\\site-packages\\statsmodels\\tsa\\holtwinters.py:731: RuntimeWarning: invalid value encountered in greater_equal\n",
      "  loc = initial_p >= ub\n"
     ]
    }
   ],
   "source": [
    "# Holt-Winters' trend and seasonality\n",
    "mod_hw = sm.tsa.ExponentialSmoothing(train)\n",
    "mod_hw_res = mod_hw.fit()\n",
    "mod_hw_res.summary()\n",
    "\n",
    "\n",
    "pred_mod_hw = mod_hw_res.predict(train_end,test_end)[1:]\n",
    "print('Holt-Winters model MSE:{}, MAE:{}, RMSE:{}'.format(mean_squared_error(test,pred_mod_hw), mean_absolute_error(test,pred_mod_hw), sqrt(mean_squared_error(test,pred_mod_hw))))\n",
    "\n"
   ]
  }
 ],
 "metadata": {
  "kernelspec": {
   "display_name": "Python 3",
   "language": "python",
   "name": "python3"
  },
  "language_info": {
   "codemirror_mode": {
    "name": "ipython",
    "version": 3
   },
   "file_extension": ".py",
   "mimetype": "text/x-python",
   "name": "python",
   "nbconvert_exporter": "python",
   "pygments_lexer": "ipython3",
   "version": "3.7.6"
  }
 },
 "nbformat": 4,
 "nbformat_minor": 2
}
